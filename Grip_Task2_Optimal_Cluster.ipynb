{
  "nbformat": 4,
  "nbformat_minor": 0,
  "metadata": {
    "colab": {
      "name": "Grip-Task2-Optimal_Cluster.ipynb",
      "provenance": [],
      "authorship_tag": "ABX9TyP9jdqQBdGRWqoPYwe5N3gJ",
      "include_colab_link": true
    },
    "kernelspec": {
      "name": "python3",
      "display_name": "Python 3"
    }
  },
  "cells": [
    {
      "cell_type": "markdown",
      "metadata": {
        "id": "view-in-github",
        "colab_type": "text"
      },
      "source": [
        "<a href=\"https://colab.research.google.com/github/sury1999/Data-Analysis-Projects/blob/main/Grip_Task2_Optimal_Cluster.ipynb\" target=\"_parent\"><img src=\"https://colab.research.google.com/assets/colab-badge.svg\" alt=\"Open In Colab\"/></a>"
      ]
    },
    {
      "cell_type": "markdown",
      "metadata": {
        "id": "z-xYNkIJVPcM"
      },
      "source": [
        "#**THE SPARKS FOUNDATION**\r\n",
        "##**BUSINESS ANALYTICS INTERNSHIP**\r\n",
        "##**GRIP TASK2**\r\n",
        "###From the given ‘Iris’ dataset, predict the optimum number of clusters and represent it visually."
      ]
    },
    {
      "cell_type": "code",
      "metadata": {
        "id": "Ri49vkrDXJtN"
      },
      "source": [
        "import numpy as np\r\n",
        "import pandas as pd\r\n",
        "import matplotlib.pyplot as plt\r\n",
        "from sklearn.cluster import KMeans\r\n",
        "from sklearn.metrics import silhouette_score\r\n"
      ],
      "execution_count": 1,
      "outputs": []
    },
    {
      "cell_type": "code",
      "metadata": {
        "id": "SqgToRrIXlaN",
        "colab": {
          "base_uri": "https://localhost:8080/",
          "height": 195
        },
        "outputId": "44388bf3-df8a-4dc5-f745-0fefaba6cd15"
      },
      "source": [
        "df = pd.read_csv('/Iris.csv')\r\n",
        "df.tail()"
      ],
      "execution_count": 16,
      "outputs": [
        {
          "output_type": "execute_result",
          "data": {
            "text/html": [
              "<div>\n",
              "<style scoped>\n",
              "    .dataframe tbody tr th:only-of-type {\n",
              "        vertical-align: middle;\n",
              "    }\n",
              "\n",
              "    .dataframe tbody tr th {\n",
              "        vertical-align: top;\n",
              "    }\n",
              "\n",
              "    .dataframe thead th {\n",
              "        text-align: right;\n",
              "    }\n",
              "</style>\n",
              "<table border=\"1\" class=\"dataframe\">\n",
              "  <thead>\n",
              "    <tr style=\"text-align: right;\">\n",
              "      <th></th>\n",
              "      <th>Id</th>\n",
              "      <th>SepalLengthCm</th>\n",
              "      <th>SepalWidthCm</th>\n",
              "      <th>PetalLengthCm</th>\n",
              "      <th>PetalWidthCm</th>\n",
              "      <th>Species</th>\n",
              "    </tr>\n",
              "  </thead>\n",
              "  <tbody>\n",
              "    <tr>\n",
              "      <th>145</th>\n",
              "      <td>146</td>\n",
              "      <td>6.7</td>\n",
              "      <td>3.0</td>\n",
              "      <td>5.2</td>\n",
              "      <td>2.3</td>\n",
              "      <td>Iris-virginica</td>\n",
              "    </tr>\n",
              "    <tr>\n",
              "      <th>146</th>\n",
              "      <td>147</td>\n",
              "      <td>6.3</td>\n",
              "      <td>2.5</td>\n",
              "      <td>5.0</td>\n",
              "      <td>1.9</td>\n",
              "      <td>Iris-virginica</td>\n",
              "    </tr>\n",
              "    <tr>\n",
              "      <th>147</th>\n",
              "      <td>148</td>\n",
              "      <td>6.5</td>\n",
              "      <td>3.0</td>\n",
              "      <td>5.2</td>\n",
              "      <td>2.0</td>\n",
              "      <td>Iris-virginica</td>\n",
              "    </tr>\n",
              "    <tr>\n",
              "      <th>148</th>\n",
              "      <td>149</td>\n",
              "      <td>6.2</td>\n",
              "      <td>3.4</td>\n",
              "      <td>5.4</td>\n",
              "      <td>2.3</td>\n",
              "      <td>Iris-virginica</td>\n",
              "    </tr>\n",
              "    <tr>\n",
              "      <th>149</th>\n",
              "      <td>150</td>\n",
              "      <td>5.9</td>\n",
              "      <td>3.0</td>\n",
              "      <td>5.1</td>\n",
              "      <td>1.8</td>\n",
              "      <td>Iris-virginica</td>\n",
              "    </tr>\n",
              "  </tbody>\n",
              "</table>\n",
              "</div>"
            ],
            "text/plain": [
              "      Id  SepalLengthCm  ...  PetalWidthCm         Species\n",
              "145  146            6.7  ...           2.3  Iris-virginica\n",
              "146  147            6.3  ...           1.9  Iris-virginica\n",
              "147  148            6.5  ...           2.0  Iris-virginica\n",
              "148  149            6.2  ...           2.3  Iris-virginica\n",
              "149  150            5.9  ...           1.8  Iris-virginica\n",
              "\n",
              "[5 rows x 6 columns]"
            ]
          },
          "metadata": {
            "tags": []
          },
          "execution_count": 16
        }
      ]
    },
    {
      "cell_type": "code",
      "metadata": {
        "id": "_vvaA0NgZGIY"
      },
      "source": [
        "X = df.iloc[:,1:5].values\r\n"
      ],
      "execution_count": 3,
      "outputs": []
    },
    {
      "cell_type": "markdown",
      "metadata": {
        "id": "BglaHQyAk7gJ"
      },
      "source": [
        "##ELBOW METHOD"
      ]
    },
    {
      "cell_type": "code",
      "metadata": {
        "colab": {
          "base_uri": "https://localhost:8080/",
          "height": 350
        },
        "id": "7zbJN88viVkd",
        "outputId": "289b7a4a-7efb-4efb-bbba-430a90cfaa63"
      },
      "source": [
        "sse = []\r\n",
        "for i in range(1,11):\r\n",
        "  kmean = KMeans(n_clusters=i, init='k-means++', n_init=10, max_iter=300)\r\n",
        "  kmean.fit(X)\r\n",
        "  sse.append(kmean.inertia_)\r\n",
        "fig, ax = plt.subplots(figsize=(10, 5))\r\n",
        "ax.plot(range(1,11), sse)\r\n",
        "plt.xticks(range(1,11))\r\n",
        "ax.set(xlabel='cluster number', ylabel='sse', title='Elbow Method')\r\n",
        "plt.show()"
      ],
      "execution_count": 4,
      "outputs": [
        {
          "output_type": "display_data",
          "data": {
            "image/png": "[encoded data removed]",
            "text/plain": [
              "<Figure size 720x360 with 1 Axes>"
            ]
          },
          "metadata": {
            "tags": [],
            "needs_background": "light"
          }
        }
      ]
    },
    {
      "cell_type": "markdown",
      "metadata": {
        "id": "BYkO8cZAoz7Z"
      },
      "source": [
        "##**From this graph we will take clusters as 3**"
      ]
    },
    {
      "cell_type": "markdown",
      "metadata": {
        "id": "ubpdK7LvomDM"
      },
      "source": [
        "##Using Silhouette Coefficient Method(Unreliable as different results everytime"
      ]
    },
    {
      "cell_type": "code",
      "metadata": {
        "colab": {
          "base_uri": "https://localhost:8080/",
          "height": 282
        },
        "id": "kXT7-AW5l-GG",
        "outputId": "2b4aec9c-44c2-40a1-88e7-9e346b54ee5b"
      },
      "source": [
        "silhouette_coef = []\r\n",
        "for i in range(2, 11):\r\n",
        "  kmean = KMeans(init='k-means++', n_init=10, max_iter=300)\r\n",
        "  kmean.fit(X)\r\n",
        "  score = silhouette_score(X, kmean.labels_)\r\n",
        "  silhouette_coef.append(score)\r\n",
        "plt.plot(range(2,11), silhouette_coef)"
      ],
      "execution_count": 28,
      "outputs": [
        {
          "output_type": "execute_result",
          "data": {
            "text/plain": [
              "[<matplotlib.lines.Line2D at 0x7fdbe1c8b668>]"
            ]
          },
          "metadata": {
            "tags": []
          },
          "execution_count": 28
        },
        {
          "output_type": "display_data",
          "data": {
            "image/png": "[encoded data removed]",
            "text/plain": [
              "<Figure size 432x288 with 1 Axes>"
            ]
          },
          "metadata": {
            "tags": [],
            "needs_background": "light"
          }
        }
      ]
    },
    {
      "cell_type": "code",
      "metadata": {
        "colab": {
          "base_uri": "https://localhost:8080/"
        },
        "id": "XxdA5ZvxovHq",
        "outputId": "b5634949-00dd-479d-ec07-0821d6e356f1"
      },
      "source": [
        "kmean = KMeans(n_clusters=3, init='k-means++', n_init=10, max_iter=300, random_state=0)\r\n",
        "Y = kmean.fit_predict(X)\r\n",
        "Y"
      ],
      "execution_count": 25,
      "outputs": [
        {
          "output_type": "execute_result",
          "data": {
            "text/plain": [
              "array([1, 1, 1, 1, 1, 1, 1, 1, 1, 1, 1, 1, 1, 1, 1, 1, 1, 1, 1, 1, 1, 1,\n",
              "       1, 1, 1, 1, 1, 1, 1, 1, 1, 1, 1, 1, 1, 1, 1, 1, 1, 1, 1, 1, 1, 1,\n",
              "       1, 1, 1, 1, 1, 1, 2, 2, 0, 2, 2, 2, 2, 2, 2, 2, 2, 2, 2, 2, 2, 2,\n",
              "       2, 2, 2, 2, 2, 2, 2, 2, 2, 2, 2, 0, 2, 2, 2, 2, 2, 2, 2, 2, 2, 2,\n",
              "       2, 2, 2, 2, 2, 2, 2, 2, 2, 2, 2, 2, 0, 2, 0, 0, 0, 0, 2, 0, 0, 0,\n",
              "       0, 0, 0, 2, 2, 0, 0, 0, 0, 2, 0, 2, 0, 2, 0, 0, 2, 2, 0, 0, 0, 0,\n",
              "       0, 2, 0, 0, 0, 0, 2, 0, 0, 0, 2, 0, 0, 0, 2, 0, 0, 2], dtype=int32)"
            ]
          },
          "metadata": {
            "tags": []
          },
          "execution_count": 25
        }
      ]
    },
    {
      "cell_type": "code",
      "metadata": {
        "colab": {
          "base_uri": "https://localhost:8080/",
          "height": 322
        },
        "id": "S7p_EGNbCaG5",
        "outputId": "435dc85b-eb45-4a58-bcd6-55862588294d"
      },
      "source": [
        "#Sepal Plots\r\n",
        "plt.subplots(figsize=(10,5))\r\n",
        "plt.scatter(X[Y==0, 0], X[Y==0, 1], color='red', label='iris virginica')\r\n",
        "plt.scatter(X[Y==1, 0], X[Y==1, 1], color='green', label='iris versicolour')\r\n",
        "plt.scatter(X[Y==2, 0], X[Y==2, 1], color='blue', label='iris setosa')\r\n",
        "#centroid\r\n",
        "plt.scatter(kmean.cluster_centers_[:,0], kmean.cluster_centers_[:,1], color='yellow', label='centroid')\r\n",
        "plt.legend()\r\n",
        "plt.show()"
      ],
      "execution_count": 23,
      "outputs": [
        {
          "output_type": "display_data",
          "data": {
            "image/png": "[encoded data removed]",
            "text/plain": [
              "<Figure size 720x360 with 1 Axes>"
            ]
          },
          "metadata": {
            "tags": [],
            "needs_background": "light"
          }
        }
      ]
    },
    {
      "cell_type": "code",
      "metadata": {
        "id": "TzY0B_U59zvt",
        "outputId": "5685471f-4034-43f4-f4ec-27d5f437fa66",
        "colab": {
          "base_uri": "https://localhost:8080/",
          "height": 320
        }
      },
      "source": [
        "#petal plots\r\n",
        "plt.subplots(figsize=(10,5))\r\n",
        "plt.scatter(X[Y==0, 2], X[Y==0, 3], color='red', label='iris virginica')\r\n",
        "plt.scatter(X[Y==1, 2], X[Y==1, 3], color='green', label='iris versicolour')\r\n",
        "plt.scatter(X[Y==2, 2], X[Y==2, 3], color='blue', label='iris setosa')\r\n",
        "plt.scatter(kmean.cluster_centers_[:,2], kmean.cluster_centers_[:,3], color='yellow', label='centroid')\r\n",
        "plt.legend()\r\n",
        "plt.show()"
      ],
      "execution_count": 26,
      "outputs": [
        {
          "output_type": "display_data",
          "data": {
            "image/png": "[encoded data removed]",
            "text/plain": [
              "<Figure size 720x360 with 1 Axes>"
            ]
          },
          "metadata": {
            "tags": [],
            "needs_background": "light"
          }
        }
      ]
    }
  ]
}
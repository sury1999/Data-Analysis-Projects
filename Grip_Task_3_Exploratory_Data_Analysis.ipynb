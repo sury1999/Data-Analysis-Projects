{
  "nbformat": 4,
  "nbformat_minor": 0,
  "metadata": {
    "colab": {
      "name": "Grip-Task_3_Exploratory_Data_Analysis.ipynb",
      "provenance": [],
      "authorship_tag": "ABX9TyNmCi1spojkJpH6QWZzj39L",
      "include_colab_link": true
    },
    "kernelspec": {
      "name": "python3",
      "display_name": "Python 3"
    }
  },
  "cells": [
    {
      "cell_type": "markdown",
      "metadata": {
        "id": "view-in-github",
        "colab_type": "text"
      },
      "source": [
        "<a href=\"https://colab.research.google.com/github/sury1999/Data-Analysis-Projects/blob/main/Grip_Task_3_Exploratory_Data_Analysis.ipynb\" target=\"_parent\"><img src=\"https://colab.research.google.com/assets/colab-badge.svg\" alt=\"Open In Colab\"/></a>"
      ]
    },
    {
      "cell_type": "markdown",
      "metadata": {
        "id": "X1U9PbmIhtBE"
      },
      "source": [
        "#**THE SPARKS FOUNDATION**\r\n",
        "##**BUSINESS ANALYTICS INTERNSHIP**\r\n",
        "##**GRIP TASK3**\r\n",
        "● Perform ‘Exploratory Data Analysis’ on dataset ‘SampleSuperstore’\r\n",
        "\r\n",
        "● As a business manager, try to find out the weak areas where you can\r\n",
        "work to make more profit.\r\n",
        "\r\n",
        "● What all business problems you can derive by exploring the data?"
      ]
    },
    {
      "cell_type": "code",
      "metadata": {
        "id": "JUdiEZ6nifVm"
      },
      "source": [
        ""
      ],
      "execution_count": null,
      "outputs": []
    }
  ]
}
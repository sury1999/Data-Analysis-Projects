{
  "nbformat": 4,
  "nbformat_minor": 0,
  "metadata": {
    "colab": {
      "name": "Grip-Task_3_Exploratory_Data_Analysis.ipynb",
      "provenance": [],
      "toc_visible": true,
      "authorship_tag": "ABX9TyPFqbKrCMkQ5V3hZtkL7rZd",
      "include_colab_link": true
    },
    "kernelspec": {
      "name": "python3",
      "display_name": "Python 3"
    }
  },
  "cells": [
    {
      "cell_type": "markdown",
      "metadata": {
        "id": "view-in-github",
        "colab_type": "text"
      },
      "source": [
        "<a href=\"https://colab.research.google.com/github/sury1999/Data-Analysis-Projects/blob/main/Grip_Task_3_Exploratory_Data_Analysis.ipynb\" target=\"_parent\"><img src=\"https://colab.research.google.com/assets/colab-badge.svg\" alt=\"Open In Colab\"/></a>"
      ]
    },
    {
      "cell_type": "markdown",
      "metadata": {
        "id": "X1U9PbmIhtBE"
      },
      "source": [
        "#**THE SPARKS FOUNDATION**\r\n",
        "##**BUSINESS ANALYTICS INTERNSHIP**\r\n",
        "##**GRIP TASK3**\r\n",
        "● Perform ‘Exploratory Data Analysis’ on dataset ‘SampleSuperstore’\r\n",
        "\r\n",
        "● As a business manager, try to find out the weak areas where you can\r\n",
        "work to make more profit.\r\n",
        "\r\n",
        "● What all business problems you can derive by exploring the data?"
      ]
    },
    {
      "cell_type": "code",
      "metadata": {
        "id": "JUdiEZ6nifVm"
      },
      "source": [
        "import numpy as np\r\n",
        "import pandas as pd\r\n",
        "import matplotlib.pyplot as plt"
      ],
      "execution_count": 71,
      "outputs": []
    },
    {
      "cell_type": "code",
      "metadata": {
        "colab": {
          "base_uri": "https://localhost:8080/",
          "height": 296
        },
        "id": "fbtOWq_0mIcz",
        "outputId": "77c69283-39d8-4a64-9bb0-2ad384a7d0a3"
      },
      "source": [
        "df = pd.read_csv('/SampleSuperstore.csv')\r\n",
        "df.head(5)"
      ],
      "execution_count": 72,
      "outputs": [
        {
          "output_type": "execute_result",
          "data": {
            "text/html": [
              "<div>\n",
              "<style scoped>\n",
              "    .dataframe tbody tr th:only-of-type {\n",
              "        vertical-align: middle;\n",
              "    }\n",
              "\n",
              "    .dataframe tbody tr th {\n",
              "        vertical-align: top;\n",
              "    }\n",
              "\n",
              "    .dataframe thead th {\n",
              "        text-align: right;\n",
              "    }\n",
              "</style>\n",
              "<table border=\"1\" class=\"dataframe\">\n",
              "  <thead>\n",
              "    <tr style=\"text-align: right;\">\n",
              "      <th></th>\n",
              "      <th>Ship Mode</th>\n",
              "      <th>Segment</th>\n",
              "      <th>Country</th>\n",
              "      <th>City</th>\n",
              "      <th>State</th>\n",
              "      <th>Postal Code</th>\n",
              "      <th>Region</th>\n",
              "      <th>Category</th>\n",
              "      <th>Sub-Category</th>\n",
              "      <th>Sales</th>\n",
              "      <th>Quantity</th>\n",
              "      <th>Discount</th>\n",
              "      <th>Profit</th>\n",
              "    </tr>\n",
              "  </thead>\n",
              "  <tbody>\n",
              "    <tr>\n",
              "      <th>0</th>\n",
              "      <td>Second Class</td>\n",
              "      <td>Consumer</td>\n",
              "      <td>United States</td>\n",
              "      <td>Henderson</td>\n",
              "      <td>Kentucky</td>\n",
              "      <td>42420</td>\n",
              "      <td>South</td>\n",
              "      <td>Furniture</td>\n",
              "      <td>Bookcases</td>\n",
              "      <td>261.9600</td>\n",
              "      <td>2</td>\n",
              "      <td>0.00</td>\n",
              "      <td>41.9136</td>\n",
              "    </tr>\n",
              "    <tr>\n",
              "      <th>1</th>\n",
              "      <td>Second Class</td>\n",
              "      <td>Consumer</td>\n",
              "      <td>United States</td>\n",
              "      <td>Henderson</td>\n",
              "      <td>Kentucky</td>\n",
              "      <td>42420</td>\n",
              "      <td>South</td>\n",
              "      <td>Furniture</td>\n",
              "      <td>Chairs</td>\n",
              "      <td>731.9400</td>\n",
              "      <td>3</td>\n",
              "      <td>0.00</td>\n",
              "      <td>219.5820</td>\n",
              "    </tr>\n",
              "    <tr>\n",
              "      <th>2</th>\n",
              "      <td>Second Class</td>\n",
              "      <td>Corporate</td>\n",
              "      <td>United States</td>\n",
              "      <td>Los Angeles</td>\n",
              "      <td>California</td>\n",
              "      <td>90036</td>\n",
              "      <td>West</td>\n",
              "      <td>Office Supplies</td>\n",
              "      <td>Labels</td>\n",
              "      <td>14.6200</td>\n",
              "      <td>2</td>\n",
              "      <td>0.00</td>\n",
              "      <td>6.8714</td>\n",
              "    </tr>\n",
              "    <tr>\n",
              "      <th>3</th>\n",
              "      <td>Standard Class</td>\n",
              "      <td>Consumer</td>\n",
              "      <td>United States</td>\n",
              "      <td>Fort Lauderdale</td>\n",
              "      <td>Florida</td>\n",
              "      <td>33311</td>\n",
              "      <td>South</td>\n",
              "      <td>Furniture</td>\n",
              "      <td>Tables</td>\n",
              "      <td>957.5775</td>\n",
              "      <td>5</td>\n",
              "      <td>0.45</td>\n",
              "      <td>-383.0310</td>\n",
              "    </tr>\n",
              "    <tr>\n",
              "      <th>4</th>\n",
              "      <td>Standard Class</td>\n",
              "      <td>Consumer</td>\n",
              "      <td>United States</td>\n",
              "      <td>Fort Lauderdale</td>\n",
              "      <td>Florida</td>\n",
              "      <td>33311</td>\n",
              "      <td>South</td>\n",
              "      <td>Office Supplies</td>\n",
              "      <td>Storage</td>\n",
              "      <td>22.3680</td>\n",
              "      <td>2</td>\n",
              "      <td>0.20</td>\n",
              "      <td>2.5164</td>\n",
              "    </tr>\n",
              "  </tbody>\n",
              "</table>\n",
              "</div>"
            ],
            "text/plain": [
              "        Ship Mode    Segment        Country  ... Quantity Discount    Profit\n",
              "0    Second Class   Consumer  United States  ...        2     0.00   41.9136\n",
              "1    Second Class   Consumer  United States  ...        3     0.00  219.5820\n",
              "2    Second Class  Corporate  United States  ...        2     0.00    6.8714\n",
              "3  Standard Class   Consumer  United States  ...        5     0.45 -383.0310\n",
              "4  Standard Class   Consumer  United States  ...        2     0.20    2.5164\n",
              "\n",
              "[5 rows x 13 columns]"
            ]
          },
          "metadata": {
            "tags": []
          },
          "execution_count": 72
        }
      ]
    },
    {
      "cell_type": "markdown",
      "metadata": {
        "id": "njpeE7M4shso"
      },
      "source": [
        "\r\n",
        "####**1:  The pie chart below show the region wise sales of a particular super store based in USA. We can see that the Southern region experiences the least number of sales while the Eastern region has the maximum. In contrast to this it can be seen that profits for Central region is the least which means that business strategy for that region needs to be adjusted.**"
      ]
    },
    {
      "cell_type": "code",
      "metadata": {
        "colab": {
          "base_uri": "https://localhost:8080/",
          "height": 318
        },
        "id": "5iOz4EBGpO5V",
        "outputId": "db5449b4-f0c3-4ac9-a951-69b05ef78b92"
      },
      "source": [
        "fig, ax = plt.subplots(nrows=1, ncols=2, figsize=(10, 5))\r\n",
        "g1 = df.groupby('Region')['Sales'].sum()\r\n",
        "g2 = df.groupby('Region')['Profit'].sum()\r\n",
        "ax[0].pie(g1, labels=g1.index)\r\n",
        "ax[1].pie(g2, labels=g2.index)\r\n",
        "ax[0].set(title='Regionwise Sales')\r\n",
        "ax[1].set(title='Regionwise Profits')"
      ],
      "execution_count": 85,
      "outputs": [
        {
          "output_type": "execute_result",
          "data": {
            "text/plain": [
              "[Text(0.5, 1.0, 'Regionwise Profits')]"
            ]
          },
          "metadata": {
            "tags": []
          },
          "execution_count": 85
        },
        {
          "output_type": "display_data",
          "data": {
            "image/png": "[encoded data removed]",
            "text/plain": [
              "<Figure size 720x360 with 2 Axes>"
            ]
          },
          "metadata": {
            "tags": []
          }
        }
      ]
    },
    {
      "cell_type": "markdown",
      "metadata": {
        "id": "n-7VXYU6DAbi"
      },
      "source": [
        "###**A stacked bar graph to better show how they relate**"
      ]
    },
    {
      "cell_type": "code",
      "metadata": {
        "id": "QJT3An9NC_dA",
        "outputId": "b3e2bd0b-49d2-4109-f1d6-13a9b5391ef3",
        "colab": {
          "base_uri": "https://localhost:8080/",
          "height": 336
        }
      },
      "source": [
        "fig, ax = plt.subplots(figsize=(10,5))\r\n",
        "gb1 = plt.bar([0, 1, 2, 3], g1)\r\n",
        "gb2 = plt.bar([0, 1, 2, 3], g2, bottom=g1)\r\n",
        "\r\n",
        "plt.ylabel('Amount')\r\n",
        "plt.title('Regionwise Sales and Profits')\r\n",
        "plt.xticks([0, 1, 2, 3], ('Central', 'East', 'South', 'West'))\r\n",
        "plt.legend((gb1[0], gb2[0]), ('Sales', 'Profit'))\r\n",
        "\r\n",
        "plt.show()\r\n"
      ],
      "execution_count": 111,
      "outputs": [
        {
          "output_type": "display_data",
          "data": {
            "image/png": "[encoded data removed]",
            "text/plain": [
              "<Figure size 720x360 with 1 Axes>"
            ]
          },
          "metadata": {
            "tags": [],
            "needs_background": "light"
          }
        }
      ]
    },
    {
      "cell_type": "markdown",
      "metadata": {
        "id": "RW7nIgqY-zZK"
      },
      "source": [
        "###**On further investigation of the problem, we can see that maximum discounts are being by the central branch which is leading to a decrease in the profit margins even though the sales volume is pretty high. Discounts offered in the central branches need to be reduced**"
      ]
    },
    {
      "cell_type": "code",
      "metadata": {
        "id": "-9dtOLOt-iv3",
        "outputId": "462fecf6-c858-4f54-d85b-a070447928d0",
        "colab": {
          "base_uri": "https://localhost:8080/",
          "height": 336
        }
      },
      "source": [
        "df.groupby('Region')['Discount'].sum().plot(kind='pie', title='Region wise discounts', ylabel='', figsize=(10,5))"
      ],
      "execution_count": 75,
      "outputs": [
        {
          "output_type": "execute_result",
          "data": {
            "text/plain": [
              "<matplotlib.axes._subplots.AxesSubplot at 0x7fe1ae22bb70>"
            ]
          },
          "metadata": {
            "tags": []
          },
          "execution_count": 75
        },
        {
          "output_type": "display_data",
          "data": {
            "image/png": "[encoded data removed]",
            "text/plain": [
              "<Figure size 720x360 with 1 Axes>"
            ]
          },
          "metadata": {
            "tags": []
          }
        }
      ]
    },
    {
      "cell_type": "markdown",
      "metadata": {
        "id": "tzyNNiLYB2bW"
      },
      "source": [
        "###**Next we will check the efficiency of each individual region**"
      ]
    },
    {
      "cell_type": "code",
      "metadata": {
        "id": "_xflFa8jB-ZB",
        "outputId": "c5a89bd6-bb55-4448-f0bb-cff151e4d0c7",
        "colab": {
          "base_uri": "https://localhost:8080/"
        }
      },
      "source": [
        "df.groupby('Region')['Region'].count()"
      ],
      "execution_count": 76,
      "outputs": [
        {
          "output_type": "execute_result",
          "data": {
            "text/plain": [
              "Region\n",
              "Central    2323\n",
              "East       2848\n",
              "South      1620\n",
              "West       3203\n",
              "Name: Region, dtype: int64"
            ]
          },
          "metadata": {
            "tags": []
          },
          "execution_count": 76
        }
      ]
    },
    {
      "cell_type": "code",
      "metadata": {
        "id": "6Dcn6XtSkEFU",
        "colab": {
          "base_uri": "https://localhost:8080/",
          "height": 339
        },
        "outputId": "45ad5ab2-bc53-4bc8-c8c9-9e1b5f52a91a"
      },
      "source": [
        "ymax = pd.Series(df.groupby('State')['Quantity'].sum().sort_values(ascending=False).head(5))\r\n",
        "xmax = pd.Series(ymax.index.values)\r\n",
        "fig, ax = plt.subplots(figsize=(10, 5))\r\n",
        "ax.bar(xmax, ymax)\r\n"
      ],
      "execution_count": 77,
      "outputs": [
        {
          "output_type": "execute_result",
          "data": {
            "text/plain": [
              "<BarContainer object of 5 artists>"
            ]
          },
          "metadata": {
            "tags": []
          },
          "execution_count": 77
        },
        {
          "output_type": "display_data",
          "data": {
            "image/png": "[encoded data removed]",
            "text/plain": [
              "<Figure size 720x360 with 1 Axes>"
            ]
          },
          "metadata": {
            "tags": [],
            "needs_background": "light"
          }
        }
      ]
    },
    {
      "cell_type": "code",
      "metadata": {
        "id": "auxNKKpGuPkX",
        "colab": {
          "base_uri": "https://localhost:8080/",
          "height": 337
        },
        "outputId": "91dd0412-6701-4ecb-e0b1-22c11b1f6324"
      },
      "source": [
        "ymin = pd.Series(df.groupby('State')['Quantity'].sum().sort_values(ascending=True).head(5))\r\n",
        "xmin = pd.Series(ymin.index.values)\r\n",
        "fig, ax = plt.subplots(figsize=(10, 5))\r\n",
        "ax.bar(xmin, ymin)"
      ],
      "execution_count": 78,
      "outputs": [
        {
          "output_type": "execute_result",
          "data": {
            "text/plain": [
              "<BarContainer object of 5 artists>"
            ]
          },
          "metadata": {
            "tags": []
          },
          "execution_count": 78
        },
        {
          "output_type": "display_data",
          "data": {
            "image/png": "[encoded data removed]",
            "text/plain": [
              "<Figure size 720x360 with 1 Axes>"
            ]
          },
          "metadata": {
            "tags": [],
            "needs_background": "light"
          }
        }
      ]
    },
    {
      "cell_type": "code",
      "metadata": {
        "id": "8pciK-AqvAz4",
        "colab": {
          "base_uri": "https://localhost:8080/",
          "height": 339
        },
        "outputId": "f55ba211-e612-46a1-8475-1dbb51ec6042"
      },
      "source": [
        "x3 = xmin.append(xmax, ignore_index=True)\r\n",
        "y3 = ymin.append(ymax, ignore_index=True)\r\n",
        "fig, ax = plt.subplots(figsize=(14, 5))\r\n",
        "ax.bar(x3, y3)\r\n"
      ],
      "execution_count": 79,
      "outputs": [
        {
          "output_type": "execute_result",
          "data": {
            "text/plain": [
              "<BarContainer object of 10 artists>"
            ]
          },
          "metadata": {
            "tags": []
          },
          "execution_count": 79
        },
        {
          "output_type": "display_data",
          "data": {
            "image/png": "[encoded data removed]",
            "text/plain": [
              "<Figure size 1008x360 with 1 Axes>"
            ]
          },
          "metadata": {
            "tags": [],
            "needs_background": "light"
          }
        }
      ]
    },
    {
      "cell_type": "code",
      "metadata": {
        "id": "bwL6tbkQqiUS",
        "colab": {
          "base_uri": "https://localhost:8080/"
        },
        "outputId": "6842f072-fde5-4a65-b18b-5a07c73b00fd"
      },
      "source": [
        "df.groupby('State')['Sales'].count()"
      ],
      "execution_count": 80,
      "outputs": [
        {
          "output_type": "execute_result",
          "data": {
            "text/plain": [
              "State\n",
              "Alabama                   61\n",
              "Arizona                  224\n",
              "Arkansas                  60\n",
              "California              2001\n",
              "Colorado                 182\n",
              "Connecticut               82\n",
              "Delaware                  96\n",
              "District of Columbia      10\n",
              "Florida                  383\n",
              "Georgia                  184\n",
              "Idaho                     21\n",
              "Illinois                 492\n",
              "Indiana                  149\n",
              "Iowa                      30\n",
              "Kansas                    24\n",
              "Kentucky                 139\n",
              "Louisiana                 42\n",
              "Maine                      8\n",
              "Maryland                 105\n",
              "Massachusetts            135\n",
              "Michigan                 255\n",
              "Minnesota                 89\n",
              "Mississippi               53\n",
              "Missouri                  66\n",
              "Montana                   15\n",
              "Nebraska                  38\n",
              "Nevada                    39\n",
              "New Hampshire             27\n",
              "New Jersey               130\n",
              "New Mexico                37\n",
              "New York                1128\n",
              "North Carolina           249\n",
              "North Dakota               7\n",
              "Ohio                     469\n",
              "Oklahoma                  66\n",
              "Oregon                   124\n",
              "Pennsylvania             587\n",
              "Rhode Island              56\n",
              "South Carolina            42\n",
              "South Dakota              12\n",
              "Tennessee                183\n",
              "Texas                    985\n",
              "Utah                      53\n",
              "Vermont                   11\n",
              "Virginia                 224\n",
              "Washington               506\n",
              "West Virginia              4\n",
              "Wisconsin                110\n",
              "Wyoming                    1\n",
              "Name: Sales, dtype: int64"
            ]
          },
          "metadata": {
            "tags": []
          },
          "execution_count": 80
        }
      ]
    }
  ]
}
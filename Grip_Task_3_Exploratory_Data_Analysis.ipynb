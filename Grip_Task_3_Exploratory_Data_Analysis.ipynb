{
  "nbformat": 4,
  "nbformat_minor": 0,
  "metadata": {
    "colab": {
      "name": "Grip-Task_3_Exploratory_Data_Analysis.ipynb",
      "provenance": [],
      "toc_visible": true,
      "authorship_tag": "ABX9TyPscYgGwUlUKG60aOhIzL4/",
      "include_colab_link": true
    },
    "kernelspec": {
      "name": "python3",
      "display_name": "Python 3"
    }
  },
  "cells": [
    {
      "cell_type": "markdown",
      "metadata": {
        "id": "view-in-github",
        "colab_type": "text"
      },
      "source": [
        "<a href=\"https://colab.research.google.com/github/sury1999/Data-Analysis-Projects/blob/main/Grip_Task_3_Exploratory_Data_Analysis.ipynb\" target=\"_parent\"><img src=\"https://colab.research.google.com/assets/colab-badge.svg\" alt=\"Open In Colab\"/></a>"
      ]
    },
    {
      "cell_type": "markdown",
      "metadata": {
        "id": "X1U9PbmIhtBE"
      },
      "source": [
        "#**THE SPARKS FOUNDATION**\r\n",
        "##**BUSINESS ANALYTICS INTERNSHIP**\r\n",
        "##**GRIP TASK3**\r\n",
        "● Perform ‘Exploratory Data Analysis’ on dataset ‘SampleSuperstore’\r\n",
        "\r\n",
        "● As a business manager, try to find out the weak areas where you can\r\n",
        "work to make more profit.\r\n",
        "\r\n",
        "● What all business problems you can derive by exploring the data?"
      ]
    },
    {
      "cell_type": "code",
      "metadata": {
        "id": "JUdiEZ6nifVm"
      },
      "source": [
        "import numpy as np\r\n",
        "import pandas as pd\r\n",
        "import matplotlib.pyplot as plt"
      ],
      "execution_count": 87,
      "outputs": []
    },
    {
      "cell_type": "code",
      "metadata": {
        "colab": {
          "base_uri": "https://localhost:8080/",
          "height": 296
        },
        "id": "fbtOWq_0mIcz",
        "outputId": "a40eef92-55ae-4d5b-a6c1-6d2f25af9a60"
      },
      "source": [
        "df = pd.read_csv('/SampleSuperstore.csv')\r\n",
        "df.head(5)"
      ],
      "execution_count": 88,
      "outputs": [
        {
          "output_type": "execute_result",
          "data": {
            "text/html": [
              "<div>\n",
              "<style scoped>\n",
              "    .dataframe tbody tr th:only-of-type {\n",
              "        vertical-align: middle;\n",
              "    }\n",
              "\n",
              "    .dataframe tbody tr th {\n",
              "        vertical-align: top;\n",
              "    }\n",
              "\n",
              "    .dataframe thead th {\n",
              "        text-align: right;\n",
              "    }\n",
              "</style>\n",
              "<table border=\"1\" class=\"dataframe\">\n",
              "  <thead>\n",
              "    <tr style=\"text-align: right;\">\n",
              "      <th></th>\n",
              "      <th>Ship Mode</th>\n",
              "      <th>Segment</th>\n",
              "      <th>Country</th>\n",
              "      <th>City</th>\n",
              "      <th>State</th>\n",
              "      <th>Postal Code</th>\n",
              "      <th>Region</th>\n",
              "      <th>Category</th>\n",
              "      <th>Sub-Category</th>\n",
              "      <th>Sales</th>\n",
              "      <th>Quantity</th>\n",
              "      <th>Discount</th>\n",
              "      <th>Profit</th>\n",
              "    </tr>\n",
              "  </thead>\n",
              "  <tbody>\n",
              "    <tr>\n",
              "      <th>0</th>\n",
              "      <td>Second Class</td>\n",
              "      <td>Consumer</td>\n",
              "      <td>United States</td>\n",
              "      <td>Henderson</td>\n",
              "      <td>Kentucky</td>\n",
              "      <td>42420</td>\n",
              "      <td>South</td>\n",
              "      <td>Furniture</td>\n",
              "      <td>Bookcases</td>\n",
              "      <td>261.9600</td>\n",
              "      <td>2</td>\n",
              "      <td>0.00</td>\n",
              "      <td>41.9136</td>\n",
              "    </tr>\n",
              "    <tr>\n",
              "      <th>1</th>\n",
              "      <td>Second Class</td>\n",
              "      <td>Consumer</td>\n",
              "      <td>United States</td>\n",
              "      <td>Henderson</td>\n",
              "      <td>Kentucky</td>\n",
              "      <td>42420</td>\n",
              "      <td>South</td>\n",
              "      <td>Furniture</td>\n",
              "      <td>Chairs</td>\n",
              "      <td>731.9400</td>\n",
              "      <td>3</td>\n",
              "      <td>0.00</td>\n",
              "      <td>219.5820</td>\n",
              "    </tr>\n",
              "    <tr>\n",
              "      <th>2</th>\n",
              "      <td>Second Class</td>\n",
              "      <td>Corporate</td>\n",
              "      <td>United States</td>\n",
              "      <td>Los Angeles</td>\n",
              "      <td>California</td>\n",
              "      <td>90036</td>\n",
              "      <td>West</td>\n",
              "      <td>Office Supplies</td>\n",
              "      <td>Labels</td>\n",
              "      <td>14.6200</td>\n",
              "      <td>2</td>\n",
              "      <td>0.00</td>\n",
              "      <td>6.8714</td>\n",
              "    </tr>\n",
              "    <tr>\n",
              "      <th>3</th>\n",
              "      <td>Standard Class</td>\n",
              "      <td>Consumer</td>\n",
              "      <td>United States</td>\n",
              "      <td>Fort Lauderdale</td>\n",
              "      <td>Florida</td>\n",
              "      <td>33311</td>\n",
              "      <td>South</td>\n",
              "      <td>Furniture</td>\n",
              "      <td>Tables</td>\n",
              "      <td>957.5775</td>\n",
              "      <td>5</td>\n",
              "      <td>0.45</td>\n",
              "      <td>-383.0310</td>\n",
              "    </tr>\n",
              "    <tr>\n",
              "      <th>4</th>\n",
              "      <td>Standard Class</td>\n",
              "      <td>Consumer</td>\n",
              "      <td>United States</td>\n",
              "      <td>Fort Lauderdale</td>\n",
              "      <td>Florida</td>\n",
              "      <td>33311</td>\n",
              "      <td>South</td>\n",
              "      <td>Office Supplies</td>\n",
              "      <td>Storage</td>\n",
              "      <td>22.3680</td>\n",
              "      <td>2</td>\n",
              "      <td>0.20</td>\n",
              "      <td>2.5164</td>\n",
              "    </tr>\n",
              "  </tbody>\n",
              "</table>\n",
              "</div>"
            ],
            "text/plain": [
              "        Ship Mode    Segment        Country  ... Quantity Discount    Profit\n",
              "0    Second Class   Consumer  United States  ...        2     0.00   41.9136\n",
              "1    Second Class   Consumer  United States  ...        3     0.00  219.5820\n",
              "2    Second Class  Corporate  United States  ...        2     0.00    6.8714\n",
              "3  Standard Class   Consumer  United States  ...        5     0.45 -383.0310\n",
              "4  Standard Class   Consumer  United States  ...        2     0.20    2.5164\n",
              "\n",
              "[5 rows x 13 columns]"
            ]
          },
          "metadata": {
            "tags": []
          },
          "execution_count": 88
        }
      ]
    },
    {
      "cell_type": "markdown",
      "metadata": {
        "id": "njpeE7M4shso"
      },
      "source": [
        "\r\n",
        "####**1:  The pie chart below show the region wise sales of a particular super store based in USA. From the chart we can see that the Southern region isn't doing as well as the rest of the regions and needs improvement.**"
      ]
    },
    {
      "cell_type": "code",
      "metadata": {
        "colab": {
          "base_uri": "https://localhost:8080/",
          "height": 336
        },
        "id": "5iOz4EBGpO5V",
        "outputId": "1da94a8c-65c4-4829-eeab-eee5368282a7"
      },
      "source": [
        "df.groupby('Region')['Sales'].count().plot(kind='pie', figsize=(10,5), title='regionwise sales', ylabel='')"
      ],
      "execution_count": 89,
      "outputs": [
        {
          "output_type": "execute_result",
          "data": {
            "text/plain": [
              "<matplotlib.axes._subplots.AxesSubplot at 0x7f4c9b21ce48>"
            ]
          },
          "metadata": {
            "tags": []
          },
          "execution_count": 89
        },
        {
          "output_type": "display_data",
          "data": {
            "image/png": "[encoded data removed]",
            "text/plain": [
              "<Figure size 720x360 with 1 Axes>"
            ]
          },
          "metadata": {
            "tags": []
          }
        }
      ]
    },
    {
      "cell_type": "code",
      "metadata": {
        "id": "1qQoRikSuFZP",
        "colab": {
          "base_uri": "https://localhost:8080/",
          "height": 336
        },
        "outputId": "fb69fc52-94fe-4fa1-fb91-a7e988a019e5"
      },
      "source": [
        "df.groupby('Region')['Profit'].count().plot(kind='pie', figsize=(10,5), title='regionwise sales', ylabel='')"
      ],
      "execution_count": 90,
      "outputs": [
        {
          "output_type": "execute_result",
          "data": {
            "text/plain": [
              "<matplotlib.axes._subplots.AxesSubplot at 0x7f4c9b1a7e48>"
            ]
          },
          "metadata": {
            "tags": []
          },
          "execution_count": 90
        },
        {
          "output_type": "display_data",
          "data": {
            "image/png": "[encoded data removed]",
            "text/plain": [
              "<Figure size 720x360 with 1 Axes>"
            ]
          },
          "metadata": {
            "tags": []
          }
        }
      ]
    },
    {
      "cell_type": "code",
      "metadata": {
        "id": "6Dcn6XtSkEFU",
        "outputId": "f4c02c19-8fcf-4353-d888-7b69f518b23b",
        "colab": {
          "base_uri": "https://localhost:8080/",
          "height": 339
        }
      },
      "source": [
        "ymax = pd.Series(df.groupby('State')['Quantity'].sum().sort_values(ascending=False).head(5))\r\n",
        "xmax = pd.Series(y.index.values)\r\n",
        "fig, ax = plt.subplots(figsize=(10, 5))\r\n",
        "ax.bar(xmax, ymax)\r\n"
      ],
      "execution_count": 100,
      "outputs": [
        {
          "output_type": "execute_result",
          "data": {
            "text/plain": [
              "<BarContainer object of 5 artists>"
            ]
          },
          "metadata": {
            "tags": []
          },
          "execution_count": 100
        },
        {
          "output_type": "display_data",
          "data": {
            "image/png": "[encoded data removed]",
            "text/plain": [
              "<Figure size 720x360 with 1 Axes>"
            ]
          },
          "metadata": {
            "tags": [],
            "needs_background": "light"
          }
        }
      ]
    },
    {
      "cell_type": "code",
      "metadata": {
        "id": "auxNKKpGuPkX",
        "outputId": "6906c0f3-1e07-4f3f-aa1d-353c22016fb9",
        "colab": {
          "base_uri": "https://localhost:8080/",
          "height": 337
        }
      },
      "source": [
        "ymin = pd.Series(df.groupby('State')['Quantity'].sum().sort_values(ascending=True).head(5))\r\n",
        "xmin = pd.Series(ymin.index.values)\r\n",
        "fig, ax = plt.subplots(figsize=(10, 5))\r\n",
        "ax.bar(xmin, ymin)"
      ],
      "execution_count": 101,
      "outputs": [
        {
          "output_type": "execute_result",
          "data": {
            "text/plain": [
              "<BarContainer object of 5 artists>"
            ]
          },
          "metadata": {
            "tags": []
          },
          "execution_count": 101
        },
        {
          "output_type": "display_data",
          "data": {
            "image/png": "[encoded data removed]",
            "text/plain": [
              "<Figure size 720x360 with 1 Axes>"
            ]
          },
          "metadata": {
            "tags": [],
            "needs_background": "light"
          }
        }
      ]
    },
    {
      "cell_type": "code",
      "metadata": {
        "id": "8pciK-AqvAz4",
        "outputId": "ace359aa-e510-4dfe-d940-13776f642c2b",
        "colab": {
          "base_uri": "https://localhost:8080/",
          "height": 339
        }
      },
      "source": [
        "x3 = xmin.append(xmax, ignore_index=True)\r\n",
        "y3 = ymin.append(ymax, ignore_index=True)\r\n",
        "fig, ax = plt.subplots(figsize=(14, 5))\r\n",
        "ax.bar(x3, y3)\r\n"
      ],
      "execution_count": 112,
      "outputs": [
        {
          "output_type": "execute_result",
          "data": {
            "text/plain": [
              "<BarContainer object of 10 artists>"
            ]
          },
          "metadata": {
            "tags": []
          },
          "execution_count": 112
        },
        {
          "output_type": "display_data",
          "data": {
            "image/png": "[encoded data removed]",
            "text/plain": [
              "<Figure size 1008x360 with 1 Axes>"
            ]
          },
          "metadata": {
            "tags": [],
            "needs_background": "light"
          }
        }
      ]
    },
    {
      "cell_type": "code",
      "metadata": {
        "id": "bwL6tbkQqiUS",
        "outputId": "175247f1-03aa-448c-d894-0db8a35260ee",
        "colab": {
          "base_uri": "https://localhost:8080/"
        }
      },
      "source": [
        "df.groupby('State')['Sales'].count()"
      ],
      "execution_count": 94,
      "outputs": [
        {
          "output_type": "execute_result",
          "data": {
            "text/plain": [
              "State\n",
              "Alabama                   61\n",
              "Arizona                  224\n",
              "Arkansas                  60\n",
              "California              2001\n",
              "Colorado                 182\n",
              "Connecticut               82\n",
              "Delaware                  96\n",
              "District of Columbia      10\n",
              "Florida                  383\n",
              "Georgia                  184\n",
              "Idaho                     21\n",
              "Illinois                 492\n",
              "Indiana                  149\n",
              "Iowa                      30\n",
              "Kansas                    24\n",
              "Kentucky                 139\n",
              "Louisiana                 42\n",
              "Maine                      8\n",
              "Maryland                 105\n",
              "Massachusetts            135\n",
              "Michigan                 255\n",
              "Minnesota                 89\n",
              "Mississippi               53\n",
              "Missouri                  66\n",
              "Montana                   15\n",
              "Nebraska                  38\n",
              "Nevada                    39\n",
              "New Hampshire             27\n",
              "New Jersey               130\n",
              "New Mexico                37\n",
              "New York                1128\n",
              "North Carolina           249\n",
              "North Dakota               7\n",
              "Ohio                     469\n",
              "Oklahoma                  66\n",
              "Oregon                   124\n",
              "Pennsylvania             587\n",
              "Rhode Island              56\n",
              "South Carolina            42\n",
              "South Dakota              12\n",
              "Tennessee                183\n",
              "Texas                    985\n",
              "Utah                      53\n",
              "Vermont                   11\n",
              "Virginia                 224\n",
              "Washington               506\n",
              "West Virginia              4\n",
              "Wisconsin                110\n",
              "Wyoming                    1\n",
              "Name: Sales, dtype: int64"
            ]
          },
          "metadata": {
            "tags": []
          },
          "execution_count": 94
        }
      ]
    }
  ]
}
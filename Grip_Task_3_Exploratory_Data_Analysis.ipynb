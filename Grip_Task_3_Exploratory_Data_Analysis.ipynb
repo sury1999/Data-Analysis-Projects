{
  "nbformat": 4,
  "nbformat_minor": 0,
  "metadata": {
    "colab": {
      "name": "Grip-Task_3_Exploratory_Data_Analysis.ipynb",
      "provenance": [],
      "toc_visible": true,
      "authorship_tag": "ABX9TyOUQ4Qvl8XSnEkjV5E9v3MR",
      "include_colab_link": true
    },
    "kernelspec": {
      "name": "python3",
      "display_name": "Python 3"
    }
  },
  "cells": [
    {
      "cell_type": "markdown",
      "metadata": {
        "id": "view-in-github",
        "colab_type": "text"
      },
      "source": [
        "<a href=\"https://colab.research.google.com/github/sury1999/Data-Analysis-Projects/blob/main/Grip_Task_3_Exploratory_Data_Analysis.ipynb\" target=\"_parent\"><img src=\"https://colab.research.google.com/assets/colab-badge.svg\" alt=\"Open In Colab\"/></a>"
      ]
    },
    {
      "cell_type": "markdown",
      "metadata": {
        "id": "X1U9PbmIhtBE"
      },
      "source": [
        "#**THE SPARKS FOUNDATION**\r\n",
        "##**BUSINESS ANALYTICS INTERNSHIP**\r\n",
        "##**GRIP TASK3**\r\n",
        "● Perform ‘Exploratory Data Analysis’ on dataset ‘SampleSuperstore’\r\n",
        "\r\n",
        "● As a business manager, try to find out the weak areas where you can\r\n",
        "work to make more profit.\r\n",
        "\r\n",
        "● What all business problems you can derive by exploring the data?"
      ]
    },
    {
      "cell_type": "code",
      "metadata": {
        "id": "JUdiEZ6nifVm"
      },
      "source": [
        "import numpy as np\r\n",
        "import pandas as pd\r\n",
        "import matplotlib.pyplot as plt"
      ],
      "execution_count": 7,
      "outputs": []
    },
    {
      "cell_type": "code",
      "metadata": {
        "colab": {
          "base_uri": "https://localhost:8080/",
          "height": 296
        },
        "id": "fbtOWq_0mIcz",
        "outputId": "d41c8114-6c43-4d70-9fca-2e882e2043ea"
      },
      "source": [
        "df = pd.read_csv('/SampleSuperstore.csv')\r\n",
        "df.head(5)"
      ],
      "execution_count": 8,
      "outputs": [
        {
          "output_type": "execute_result",
          "data": {
            "text/html": [
              "<div>\n",
              "<style scoped>\n",
              "    .dataframe tbody tr th:only-of-type {\n",
              "        vertical-align: middle;\n",
              "    }\n",
              "\n",
              "    .dataframe tbody tr th {\n",
              "        vertical-align: top;\n",
              "    }\n",
              "\n",
              "    .dataframe thead th {\n",
              "        text-align: right;\n",
              "    }\n",
              "</style>\n",
              "<table border=\"1\" class=\"dataframe\">\n",
              "  <thead>\n",
              "    <tr style=\"text-align: right;\">\n",
              "      <th></th>\n",
              "      <th>Ship Mode</th>\n",
              "      <th>Segment</th>\n",
              "      <th>Country</th>\n",
              "      <th>City</th>\n",
              "      <th>State</th>\n",
              "      <th>Postal Code</th>\n",
              "      <th>Region</th>\n",
              "      <th>Category</th>\n",
              "      <th>Sub-Category</th>\n",
              "      <th>Sales</th>\n",
              "      <th>Quantity</th>\n",
              "      <th>Discount</th>\n",
              "      <th>Profit</th>\n",
              "    </tr>\n",
              "  </thead>\n",
              "  <tbody>\n",
              "    <tr>\n",
              "      <th>0</th>\n",
              "      <td>Second Class</td>\n",
              "      <td>Consumer</td>\n",
              "      <td>United States</td>\n",
              "      <td>Henderson</td>\n",
              "      <td>Kentucky</td>\n",
              "      <td>42420</td>\n",
              "      <td>South</td>\n",
              "      <td>Furniture</td>\n",
              "      <td>Bookcases</td>\n",
              "      <td>261.9600</td>\n",
              "      <td>2</td>\n",
              "      <td>0.00</td>\n",
              "      <td>41.9136</td>\n",
              "    </tr>\n",
              "    <tr>\n",
              "      <th>1</th>\n",
              "      <td>Second Class</td>\n",
              "      <td>Consumer</td>\n",
              "      <td>United States</td>\n",
              "      <td>Henderson</td>\n",
              "      <td>Kentucky</td>\n",
              "      <td>42420</td>\n",
              "      <td>South</td>\n",
              "      <td>Furniture</td>\n",
              "      <td>Chairs</td>\n",
              "      <td>731.9400</td>\n",
              "      <td>3</td>\n",
              "      <td>0.00</td>\n",
              "      <td>219.5820</td>\n",
              "    </tr>\n",
              "    <tr>\n",
              "      <th>2</th>\n",
              "      <td>Second Class</td>\n",
              "      <td>Corporate</td>\n",
              "      <td>United States</td>\n",
              "      <td>Los Angeles</td>\n",
              "      <td>California</td>\n",
              "      <td>90036</td>\n",
              "      <td>West</td>\n",
              "      <td>Office Supplies</td>\n",
              "      <td>Labels</td>\n",
              "      <td>14.6200</td>\n",
              "      <td>2</td>\n",
              "      <td>0.00</td>\n",
              "      <td>6.8714</td>\n",
              "    </tr>\n",
              "    <tr>\n",
              "      <th>3</th>\n",
              "      <td>Standard Class</td>\n",
              "      <td>Consumer</td>\n",
              "      <td>United States</td>\n",
              "      <td>Fort Lauderdale</td>\n",
              "      <td>Florida</td>\n",
              "      <td>33311</td>\n",
              "      <td>South</td>\n",
              "      <td>Furniture</td>\n",
              "      <td>Tables</td>\n",
              "      <td>957.5775</td>\n",
              "      <td>5</td>\n",
              "      <td>0.45</td>\n",
              "      <td>-383.0310</td>\n",
              "    </tr>\n",
              "    <tr>\n",
              "      <th>4</th>\n",
              "      <td>Standard Class</td>\n",
              "      <td>Consumer</td>\n",
              "      <td>United States</td>\n",
              "      <td>Fort Lauderdale</td>\n",
              "      <td>Florida</td>\n",
              "      <td>33311</td>\n",
              "      <td>South</td>\n",
              "      <td>Office Supplies</td>\n",
              "      <td>Storage</td>\n",
              "      <td>22.3680</td>\n",
              "      <td>2</td>\n",
              "      <td>0.20</td>\n",
              "      <td>2.5164</td>\n",
              "    </tr>\n",
              "  </tbody>\n",
              "</table>\n",
              "</div>"
            ],
            "text/plain": [
              "        Ship Mode    Segment        Country  ... Quantity Discount    Profit\n",
              "0    Second Class   Consumer  United States  ...        2     0.00   41.9136\n",
              "1    Second Class   Consumer  United States  ...        3     0.00  219.5820\n",
              "2    Second Class  Corporate  United States  ...        2     0.00    6.8714\n",
              "3  Standard Class   Consumer  United States  ...        5     0.45 -383.0310\n",
              "4  Standard Class   Consumer  United States  ...        2     0.20    2.5164\n",
              "\n",
              "[5 rows x 13 columns]"
            ]
          },
          "metadata": {
            "tags": []
          },
          "execution_count": 8
        }
      ]
    },
    {
      "cell_type": "markdown",
      "metadata": {
        "id": "njpeE7M4shso"
      },
      "source": [
        "\r\n",
        "####**1:  The pie chart below show the region wise sales of a particular super store based in USA. We can see that the Souther region experiences the least number of sales while the Eastern region has the maximum. In contrast to this it can be seen that profits for Central region is the least which means that business strategy for that region needs to be adjusted.**"
      ]
    },
    {
      "cell_type": "code",
      "metadata": {
        "colab": {
          "base_uri": "https://localhost:8080/",
          "height": 318
        },
        "id": "5iOz4EBGpO5V",
        "outputId": "4be7dd49-2af8-497c-e705-acdfdddb37c4"
      },
      "source": [
        "fig, ax = plt.subplots(nrows=1, ncols=2, figsize=(10, 5))\r\n",
        "g1 = df.groupby('Region')['Sales'].sum()\r\n",
        "g2 = df.groupby('Region')['Profit'].sum()\r\n",
        "ax[0].pie(g1, labels=g1.index)\r\n",
        "ax[1].pie(g2, labels=g2.index)\r\n",
        "ax[0].set(title='Regionwise Sales')\r\n",
        "ax[1].set(title='Regionwise Profits')"
      ],
      "execution_count": 45,
      "outputs": [
        {
          "output_type": "execute_result",
          "data": {
            "text/plain": [
              "[Text(0.5, 1.0, 'Regionwise Profits')]"
            ]
          },
          "metadata": {
            "tags": []
          },
          "execution_count": 45
        },
        {
          "output_type": "display_data",
          "data": {
            "image/png": "[encoded data removed]",
            "text/plain": [
              "<Figure size 720x360 with 2 Axes>"
            ]
          },
          "metadata": {
            "tags": []
          }
        }
      ]
    },
    {
      "cell_type": "markdown",
      "metadata": {
        "id": "0xOsYaUM4afQ"
      },
      "source": [
        ""
      ]
    },
    {
      "cell_type": "code",
      "metadata": {
        "id": "6Dcn6XtSkEFU",
        "colab": {
          "base_uri": "https://localhost:8080/",
          "height": 339
        },
        "outputId": "1a17b4ef-0bce-4378-9fe3-a9ecf4f12be9"
      },
      "source": [
        "ymax = pd.Series(df.groupby('State')['Quantity'].sum().sort_values(ascending=False).head(5))\r\n",
        "xmax = pd.Series(ymax.index.values)\r\n",
        "fig, ax = plt.subplots(figsize=(10, 5))\r\n",
        "ax.bar(xmax, ymax)\r\n"
      ],
      "execution_count": 11,
      "outputs": [
        {
          "output_type": "execute_result",
          "data": {
            "text/plain": [
              "<BarContainer object of 5 artists>"
            ]
          },
          "metadata": {
            "tags": []
          },
          "execution_count": 11
        },
        {
          "output_type": "display_data",
          "data": {
            "image/png": "[encoded data removed]",
            "text/plain": [
              "<Figure size 720x360 with 1 Axes>"
            ]
          },
          "metadata": {
            "tags": [],
            "needs_background": "light"
          }
        }
      ]
    },
    {
      "cell_type": "code",
      "metadata": {
        "id": "auxNKKpGuPkX",
        "colab": {
          "base_uri": "https://localhost:8080/",
          "height": 337
        },
        "outputId": "cecf245e-3c9e-426c-a5e8-eecf7d881d48"
      },
      "source": [
        "ymin = pd.Series(df.groupby('State')['Quantity'].sum().sort_values(ascending=True).head(5))\r\n",
        "xmin = pd.Series(ymin.index.values)\r\n",
        "fig, ax = plt.subplots(figsize=(10, 5))\r\n",
        "ax.bar(xmin, ymin)"
      ],
      "execution_count": 12,
      "outputs": [
        {
          "output_type": "execute_result",
          "data": {
            "text/plain": [
              "<BarContainer object of 5 artists>"
            ]
          },
          "metadata": {
            "tags": []
          },
          "execution_count": 12
        },
        {
          "output_type": "display_data",
          "data": {
            "image/png": "[encoded data removed]",
            "text/plain": [
              "<Figure size 720x360 with 1 Axes>"
            ]
          },
          "metadata": {
            "tags": [],
            "needs_background": "light"
          }
        }
      ]
    },
    {
      "cell_type": "code",
      "metadata": {
        "id": "8pciK-AqvAz4",
        "colab": {
          "base_uri": "https://localhost:8080/",
          "height": 339
        },
        "outputId": "941144c0-6146-4398-b83c-b25ac9a2e7aa"
      },
      "source": [
        "x3 = xmin.append(xmax, ignore_index=True)\r\n",
        "y3 = ymin.append(ymax, ignore_index=True)\r\n",
        "fig, ax = plt.subplots(figsize=(14, 5))\r\n",
        "ax.bar(x3, y3)\r\n"
      ],
      "execution_count": 13,
      "outputs": [
        {
          "output_type": "execute_result",
          "data": {
            "text/plain": [
              "<BarContainer object of 10 artists>"
            ]
          },
          "metadata": {
            "tags": []
          },
          "execution_count": 13
        },
        {
          "output_type": "display_data",
          "data": {
            "image/png": "[encoded data removed]",
            "text/plain": [
              "<Figure size 1008x360 with 1 Axes>"
            ]
          },
          "metadata": {
            "tags": [],
            "needs_background": "light"
          }
        }
      ]
    },
    {
      "cell_type": "code",
      "metadata": {
        "id": "bwL6tbkQqiUS",
        "colab": {
          "base_uri": "https://localhost:8080/"
        },
        "outputId": "ab0db843-63dd-42a4-954c-da2b6d53df30"
      },
      "source": [
        "df.groupby('State')['Sales'].count()"
      ],
      "execution_count": 14,
      "outputs": [
        {
          "output_type": "execute_result",
          "data": {
            "text/plain": [
              "State\n",
              "Alabama                   61\n",
              "Arizona                  224\n",
              "Arkansas                  60\n",
              "California              2001\n",
              "Colorado                 182\n",
              "Connecticut               82\n",
              "Delaware                  96\n",
              "District of Columbia      10\n",
              "Florida                  383\n",
              "Georgia                  184\n",
              "Idaho                     21\n",
              "Illinois                 492\n",
              "Indiana                  149\n",
              "Iowa                      30\n",
              "Kansas                    24\n",
              "Kentucky                 139\n",
              "Louisiana                 42\n",
              "Maine                      8\n",
              "Maryland                 105\n",
              "Massachusetts            135\n",
              "Michigan                 255\n",
              "Minnesota                 89\n",
              "Mississippi               53\n",
              "Missouri                  66\n",
              "Montana                   15\n",
              "Nebraska                  38\n",
              "Nevada                    39\n",
              "New Hampshire             27\n",
              "New Jersey               130\n",
              "New Mexico                37\n",
              "New York                1128\n",
              "North Carolina           249\n",
              "North Dakota               7\n",
              "Ohio                     469\n",
              "Oklahoma                  66\n",
              "Oregon                   124\n",
              "Pennsylvania             587\n",
              "Rhode Island              56\n",
              "South Carolina            42\n",
              "South Dakota              12\n",
              "Tennessee                183\n",
              "Texas                    985\n",
              "Utah                      53\n",
              "Vermont                   11\n",
              "Virginia                 224\n",
              "Washington               506\n",
              "West Virginia              4\n",
              "Wisconsin                110\n",
              "Wyoming                    1\n",
              "Name: Sales, dtype: int64"
            ]
          },
          "metadata": {
            "tags": []
          },
          "execution_count": 14
        }
      ]
    }
  ]
}
{
  "nbformat": 4,
  "nbformat_minor": 0,
  "metadata": {
    "colab": {
      "name": "Grip-Task1-Percentage_vs_score.ipynb",
      "provenance": [],
      "authorship_tag": "ABX9TyPP1mf+80dOzObZgzGip1r3",
      "include_colab_link": true
    },
    "kernelspec": {
      "name": "python3",
      "display_name": "Python 3"
    }
  },
  "cells": [
    {
      "cell_type": "markdown",
      "metadata": {
        "id": "view-in-github",
        "colab_type": "text"
      },
      "source": [
        "<a href=\"https://colab.research.google.com/github/sury1999/Data-Analysis-Projects/blob/main/Grip_Task1_Percentage_vs_score.ipynb\" target=\"_parent\"><img src=\"https://colab.research.google.com/assets/colab-badge.svg\" alt=\"Open In Colab\"/></a>"
      ]
    },
    {
      "cell_type": "markdown",
      "metadata": {
        "id": "D-pVRaVIuwOh"
      },
      "source": [
        "#**THE SPARKS FOUNDATION**\r\n",
        "##**BUSINESS ANALYTICS INTERNSHIP**\r\n",
        "##**GRIP TASK1**\r\n",
        "###Predict the percentage of an student based on the no. of study hours."
      ]
    },
    {
      "cell_type": "code",
      "metadata": {
        "id": "cXN_kpcgviTU"
      },
      "source": [
        ""
      ],
      "execution_count": null,
      "outputs": []
    }
  ]
}
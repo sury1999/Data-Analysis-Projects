{
  "nbformat": 4,
  "nbformat_minor": 0,
  "metadata": {
    "colab": {
      "name": "Grip-Task1-Percentage_vs_score.ipynb",
      "provenance": [],
      "toc_visible": true,
      "authorship_tag": "ABX9TyNwXKfvGZS/qprM0mNSfb7b",
      "include_colab_link": true
    },
    "kernelspec": {
      "name": "python3",
      "display_name": "Python 3"
    }
  },
  "cells": [
    {
      "cell_type": "markdown",
      "metadata": {
        "id": "view-in-github",
        "colab_type": "text"
      },
      "source": [
        "<a href=\"https://colab.research.google.com/github/sury1999/Data-Analysis-Projects/blob/main/Grip_Task1_Percentage_vs_score.ipynb\" target=\"_parent\"><img src=\"https://colab.research.google.com/assets/colab-badge.svg\" alt=\"Open In Colab\"/></a>"
      ]
    },
    {
      "cell_type": "markdown",
      "metadata": {
        "id": "D-pVRaVIuwOh"
      },
      "source": [
        "#**THE SPARKS FOUNDATION**\r\n",
        "##**BUSINESS ANALYTICS INTERNSHIP**\r\n",
        "##**GRIP TASK1**\r\n",
        "###Predict the percentage of an student based on the no. of study hours."
      ]
    },
    {
      "cell_type": "code",
      "metadata": {
        "id": "cXN_kpcgviTU"
      },
      "source": [
        "import numpy as np\r\n",
        "import pandas as pd\r\n",
        "import matplotlib.pyplot as plt\r\n",
        "from sklearn.linear_model import LinearRegression\r\n",
        "from scipy.stats import linregress\r\n"
      ],
      "execution_count": 41,
      "outputs": []
    },
    {
      "cell_type": "code",
      "metadata": {
        "id": "-CaRs1G_uHI_",
        "colab": {
          "base_uri": "https://localhost:8080/",
          "height": 195
        },
        "outputId": "a07d54c8-cfc2-43f2-e037-ba6fc05df56c"
      },
      "source": [
        "df = pd.read_csv('/task1data.csv')\r\n",
        "df.head()"
      ],
      "execution_count": 42,
      "outputs": [
        {
          "output_type": "execute_result",
          "data": {
            "text/html": [
              "<div>\n",
              "<style scoped>\n",
              "    .dataframe tbody tr th:only-of-type {\n",
              "        vertical-align: middle;\n",
              "    }\n",
              "\n",
              "    .dataframe tbody tr th {\n",
              "        vertical-align: top;\n",
              "    }\n",
              "\n",
              "    .dataframe thead th {\n",
              "        text-align: right;\n",
              "    }\n",
              "</style>\n",
              "<table border=\"1\" class=\"dataframe\">\n",
              "  <thead>\n",
              "    <tr style=\"text-align: right;\">\n",
              "      <th></th>\n",
              "      <th>Hours</th>\n",
              "      <th>Scores</th>\n",
              "    </tr>\n",
              "  </thead>\n",
              "  <tbody>\n",
              "    <tr>\n",
              "      <th>0</th>\n",
              "      <td>2.5</td>\n",
              "      <td>21</td>\n",
              "    </tr>\n",
              "    <tr>\n",
              "      <th>1</th>\n",
              "      <td>5.1</td>\n",
              "      <td>47</td>\n",
              "    </tr>\n",
              "    <tr>\n",
              "      <th>2</th>\n",
              "      <td>3.2</td>\n",
              "      <td>27</td>\n",
              "    </tr>\n",
              "    <tr>\n",
              "      <th>3</th>\n",
              "      <td>8.5</td>\n",
              "      <td>75</td>\n",
              "    </tr>\n",
              "    <tr>\n",
              "      <th>4</th>\n",
              "      <td>3.5</td>\n",
              "      <td>30</td>\n",
              "    </tr>\n",
              "  </tbody>\n",
              "</table>\n",
              "</div>"
            ],
            "text/plain": [
              "   Hours  Scores\n",
              "0    2.5      21\n",
              "1    5.1      47\n",
              "2    3.2      27\n",
              "3    8.5      75\n",
              "4    3.5      30"
            ]
          },
          "metadata": {
            "tags": []
          },
          "execution_count": 42
        }
      ]
    },
    {
      "cell_type": "code",
      "metadata": {
        "id": "WyaEOi0ruuoH",
        "colab": {
          "base_uri": "https://localhost:8080/",
          "height": 391
        },
        "outputId": "fc91abd3-168c-44ca-cc1f-da7123c20fa8"
      },
      "source": [
        "fig,ax = plt.subplots(figsize=(14,6))\r\n",
        "ax.plot(df['Hours'], df['Scores'], 'o')"
      ],
      "execution_count": 43,
      "outputs": [
        {
          "output_type": "execute_result",
          "data": {
            "text/plain": [
              "[<matplotlib.lines.Line2D at 0x7ff5912f6898>]"
            ]
          },
          "metadata": {
            "tags": []
          },
          "execution_count": 43
        },
        {
          "output_type": "display_data",
          "data": {
            "image/png": "[encoded data removed]",
            "text/plain": [
              "<Figure size 1008x432 with 1 Axes>"
            ]
          },
          "metadata": {
            "tags": [],
            "needs_background": "light"
          }
        }
      ]
    },
    {
      "cell_type": "code",
      "metadata": {
        "id": "gcqEU0bDvFD0",
        "colab": {
          "base_uri": "https://localhost:8080/"
        },
        "outputId": "4ab77bd0-dd6f-4d04-c39c-aaf251d2ed29"
      },
      "source": [
        "res = linregress(df['Hours'], df['Scores'])\r\n",
        "m = res.slope\r\n",
        "y = res.intercept\r\n",
        "y, m"
      ],
      "execution_count": 44,
      "outputs": [
        {
          "output_type": "execute_result",
          "data": {
            "text/plain": [
              "(2.4836734053731817, 9.775803390787473)"
            ]
          },
          "metadata": {
            "tags": []
          },
          "execution_count": 44
        }
      ]
    },
    {
      "cell_type": "code",
      "metadata": {
        "id": "hxnfe5Nff7Qs"
      },
      "source": [
        "X = df['Hours']\r\n",
        "Y = df['Scores']\r\n",
        "Y = Y.values.reshape(25, 1)\r\n",
        "X = X.values.reshape(25, 1)"
      ],
      "execution_count": 45,
      "outputs": []
    },
    {
      "cell_type": "code",
      "metadata": {
        "colab": {
          "base_uri": "https://localhost:8080/"
        },
        "id": "hp7vqQ4OhdkG",
        "outputId": "4eca5d29-4ace-405e-e70f-8710ca03e6d8"
      },
      "source": [
        "\r\n",
        "model = LinearRegression()\r\n",
        "model.fit(X, Y)"
      ],
      "execution_count": 46,
      "outputs": [
        {
          "output_type": "execute_result",
          "data": {
            "text/plain": [
              "LinearRegression(copy_X=True, fit_intercept=True, n_jobs=None, normalize=False)"
            ]
          },
          "metadata": {
            "tags": []
          },
          "execution_count": 46
        }
      ]
    },
    {
      "cell_type": "code",
      "metadata": {
        "colab": {
          "base_uri": "https://localhost:8080/"
        },
        "id": "_iOihjrvlFAZ",
        "outputId": "2e958ad2-46ae-4625-a66d-aed3705ccbd7"
      },
      "source": [
        "model.intercept_, model.coef_"
      ],
      "execution_count": 47,
      "outputs": [
        {
          "output_type": "execute_result",
          "data": {
            "text/plain": [
              "(array([2.48367341]), array([[9.77580339]]))"
            ]
          },
          "metadata": {
            "tags": []
          },
          "execution_count": 47
        }
      ]
    },
    {
      "cell_type": "code",
      "metadata": {
        "colab": {
          "base_uri": "https://localhost:8080/",
          "height": 421
        },
        "id": "o7Emz8dtlbZ4",
        "outputId": "55028711-f2e1-4842-a4e6-2d0c7d60336f"
      },
      "source": [
        "fig,ax = plt.subplots(figsize=(14,6))\r\n",
        "ax.plot(df['Hours'], df['Scores'], 'o', label='original')\r\n",
        "y_pred = model.intercept_ + model.coef_ * X\r\n",
        "plt.plot(X, y_pred, 'r', label='fitted-line')\r\n",
        "ax.set(xlabel='Hours Studied',\r\n",
        "       ylabel='Scores',\r\n",
        "       Title='Scores vs Hours Studied')\r\n",
        "plt.legend()"
      ],
      "execution_count": 58,
      "outputs": [
        {
          "output_type": "execute_result",
          "data": {
            "text/plain": [
              "<matplotlib.legend.Legend at 0x7ff58945f0b8>"
            ]
          },
          "metadata": {
            "tags": []
          },
          "execution_count": 58
        },
        {
          "output_type": "display_data",
          "data": {
            "image/png": "[encoded data removed]",
            "text/plain": [
              "<Figure size 1008x432 with 1 Axes>"
            ]
          },
          "metadata": {
            "tags": [],
            "needs_background": "light"
          }
        }
      ]
    },
    {
      "cell_type": "code",
      "metadata": {
        "id": "nV9B-tWaemsr",
        "outputId": "d55c1199-afeb-4551-c06c-41d77c3f0c96",
        "colab": {
          "base_uri": "https://localhost:8080/"
        }
      },
      "source": [
        "hours_to_test = 9.25\r\n",
        "y_pred = model.intercept_ + model.coef_ * hours_to_test\r\n",
        "y_pred = y_pred.flatten()\r\n",
        "predict_score = y_pred[0]\r\n",
        "print('For studying {} hours'.format(hours_to_test))\r\n",
        "print('Predicted score is', predict_score)"
      ],
      "execution_count": 57,
      "outputs": [
        {
          "output_type": "stream",
          "text": [
            "For studying 9.25 hours\n",
            "Predicted score is 92.9098547701573\n"
          ],
          "name": "stdout"
        }
      ]
    }
  ]
}